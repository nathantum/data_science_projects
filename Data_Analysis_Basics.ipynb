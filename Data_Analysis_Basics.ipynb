{
 "cells": [
  {
   "cell_type": "markdown",
   "id": "fad05881",
   "metadata": {},
   "source": [
    "### Toys Dataset\n",
    "#### In this data analysis project, we will explore the fictional  toy dataset. The dataset has been filtered so that it contains the toys from various cities in Canada. \n",
    "\n",
    "The data has 5 columns\n",
    "- City is a Canadian Cities\n",
    "- Gender is the self reported gender of the person\n",
    "- Age is a integer that represents how old the person in in the record is\n",
    "- Income the annual salary of the person as an integer\n",
    "- ill a 'Yes' or 'No' to indicate if the person is suffering from our mystery illness\n",
    "\n",
    "\n",
    "We will explore the dataset and find any insights from it. Python 3 will be used to perform analysis and visualizations."
   ]
  },
  {
   "cell_type": "code",
   "execution_count": 7,
   "id": "cfcbd919",
   "metadata": {},
   "outputs": [],
   "source": [
    "#  Load the libraries\n",
    "import pandas as pd\n",
    "import numpy as np\n"
   ]
  },
  {
   "cell_type": "markdown",
   "id": "321eebd8",
   "metadata": {},
   "source": [
    "Load the data into pandas dataframe. This data is already clean and no data cleaning is required. Let's take a look at the first 10 observations.\n"
   ]
  },
  {
   "cell_type": "code",
   "execution_count": 8,
   "id": "e453c657",
   "metadata": {},
   "outputs": [
    {
     "data": {
      "text/html": [
       "<div>\n",
       "<style scoped>\n",
       "    .dataframe tbody tr th:only-of-type {\n",
       "        vertical-align: middle;\n",
       "    }\n",
       "\n",
       "    .dataframe tbody tr th {\n",
       "        vertical-align: top;\n",
       "    }\n",
       "\n",
       "    .dataframe thead th {\n",
       "        text-align: right;\n",
       "    }\n",
       "</style>\n",
       "<table border=\"1\" class=\"dataframe\">\n",
       "  <thead>\n",
       "    <tr style=\"text-align: right;\">\n",
       "      <th></th>\n",
       "      <th>city</th>\n",
       "      <th>gender</th>\n",
       "      <th>age</th>\n",
       "      <th>income</th>\n",
       "      <th>ill</th>\n",
       "    </tr>\n",
       "  </thead>\n",
       "  <tbody>\n",
       "    <tr>\n",
       "      <th>0</th>\n",
       "      <td>Montreal</td>\n",
       "      <td>Male</td>\n",
       "      <td>41</td>\n",
       "      <td>40367</td>\n",
       "      <td>No</td>\n",
       "    </tr>\n",
       "    <tr>\n",
       "      <th>1</th>\n",
       "      <td>Montreal</td>\n",
       "      <td>Male</td>\n",
       "      <td>54</td>\n",
       "      <td>45084</td>\n",
       "      <td>No</td>\n",
       "    </tr>\n",
       "    <tr>\n",
       "      <th>2</th>\n",
       "      <td>Montreal</td>\n",
       "      <td>Male</td>\n",
       "      <td>42</td>\n",
       "      <td>52483</td>\n",
       "      <td>No</td>\n",
       "    </tr>\n",
       "    <tr>\n",
       "      <th>3</th>\n",
       "      <td>Montreal</td>\n",
       "      <td>Male</td>\n",
       "      <td>40</td>\n",
       "      <td>40941</td>\n",
       "      <td>No</td>\n",
       "    </tr>\n",
       "    <tr>\n",
       "      <th>4</th>\n",
       "      <td>Montreal</td>\n",
       "      <td>Male</td>\n",
       "      <td>46</td>\n",
       "      <td>50289</td>\n",
       "      <td>No</td>\n",
       "    </tr>\n",
       "  </tbody>\n",
       "</table>\n",
       "</div>"
      ],
      "text/plain": [
       "       city gender  age  income ill\n",
       "0  Montreal   Male   41   40367  No\n",
       "1  Montreal   Male   54   45084  No\n",
       "2  Montreal   Male   42   52483  No\n",
       "3  Montreal   Male   40   40941  No\n",
       "4  Montreal   Male   46   50289  No"
      ]
     },
     "execution_count": 8,
     "metadata": {},
     "output_type": "execute_result"
    }
   ],
   "source": [
    "data = pd.read_csv(\"https://brockdsl.github.io/Python_2.0_Workshop/canadian_toy_dataset.csv\")\n",
    "data.columns = [\"city\",\"gender\",\"age\",\"income\",\"ill\"]\n",
    "data.head()"
   ]
  },
  {
   "cell_type": "markdown",
   "id": "a9a3507f",
   "metadata": {},
   "source": [
    "Basics statistics for numerical variables"
   ]
  },
  {
   "cell_type": "code",
   "execution_count": 9,
   "id": "a6e390b3",
   "metadata": {},
   "outputs": [
    {
     "data": {
      "text/html": [
       "<div>\n",
       "<style scoped>\n",
       "    .dataframe tbody tr th:only-of-type {\n",
       "        vertical-align: middle;\n",
       "    }\n",
       "\n",
       "    .dataframe tbody tr th {\n",
       "        vertical-align: top;\n",
       "    }\n",
       "\n",
       "    .dataframe thead th {\n",
       "        text-align: right;\n",
       "    }\n",
       "</style>\n",
       "<table border=\"1\" class=\"dataframe\">\n",
       "  <thead>\n",
       "    <tr style=\"text-align: right;\">\n",
       "      <th></th>\n",
       "      <th>age</th>\n",
       "      <th>income</th>\n",
       "    </tr>\n",
       "  </thead>\n",
       "  <tbody>\n",
       "    <tr>\n",
       "      <th>count</th>\n",
       "      <td>150000.000000</td>\n",
       "      <td>150000.000000</td>\n",
       "    </tr>\n",
       "    <tr>\n",
       "      <th>mean</th>\n",
       "      <td>44.950200</td>\n",
       "      <td>91252.798273</td>\n",
       "    </tr>\n",
       "    <tr>\n",
       "      <th>std</th>\n",
       "      <td>11.572486</td>\n",
       "      <td>24989.500948</td>\n",
       "    </tr>\n",
       "    <tr>\n",
       "      <th>min</th>\n",
       "      <td>25.000000</td>\n",
       "      <td>-654.000000</td>\n",
       "    </tr>\n",
       "    <tr>\n",
       "      <th>25%</th>\n",
       "      <td>35.000000</td>\n",
       "      <td>80867.750000</td>\n",
       "    </tr>\n",
       "    <tr>\n",
       "      <th>50%</th>\n",
       "      <td>45.000000</td>\n",
       "      <td>93655.000000</td>\n",
       "    </tr>\n",
       "    <tr>\n",
       "      <th>75%</th>\n",
       "      <td>55.000000</td>\n",
       "      <td>104519.000000</td>\n",
       "    </tr>\n",
       "    <tr>\n",
       "      <th>max</th>\n",
       "      <td>65.000000</td>\n",
       "      <td>177157.000000</td>\n",
       "    </tr>\n",
       "  </tbody>\n",
       "</table>\n",
       "</div>"
      ],
      "text/plain": [
       "                 age         income\n",
       "count  150000.000000  150000.000000\n",
       "mean       44.950200   91252.798273\n",
       "std        11.572486   24989.500948\n",
       "min        25.000000    -654.000000\n",
       "25%        35.000000   80867.750000\n",
       "50%        45.000000   93655.000000\n",
       "75%        55.000000  104519.000000\n",
       "max        65.000000  177157.000000"
      ]
     },
     "execution_count": 9,
     "metadata": {},
     "output_type": "execute_result"
    }
   ],
   "source": [
    "data.describe()"
   ]
  },
  {
   "cell_type": "markdown",
   "id": "54e4ab9c",
   "metadata": {},
   "source": [
    "### General Questions about from the dataset"
   ]
  },
  {
   "cell_type": "markdown",
   "id": "8831daad",
   "metadata": {},
   "source": [
    "#### 1. How many people are ill ?"
   ]
  },
  {
   "cell_type": "code",
   "execution_count": 14,
   "id": "8d0b72d6",
   "metadata": {},
   "outputs": [
    {
     "data": {
      "text/plain": [
       "12139"
      ]
     },
     "execution_count": 14,
     "metadata": {},
     "output_type": "execute_result"
    }
   ],
   "source": [
    "# data.groupby(\"ill\").count()\n",
    "data[data[\"ill\"] == \"Yes\"].ill.count()"
   ]
  },
  {
   "cell_type": "markdown",
   "id": "0ca93881",
   "metadata": {},
   "source": [
    "#### 2. How many people are Male in this dataset ?"
   ]
  },
  {
   "cell_type": "code",
   "execution_count": 16,
   "id": "51a85d7b",
   "metadata": {},
   "outputs": [
    {
     "data": {
      "text/plain": [
       "83800"
      ]
     },
     "execution_count": 16,
     "metadata": {},
     "output_type": "execute_result"
    }
   ],
   "source": [
    "data[data[\"gender\"] == \"Male\"].gender.count()"
   ]
  },
  {
   "cell_type": "markdown",
   "id": "2451120c",
   "metadata": {},
   "source": [
    "#### 3. How many different cities are in the dataset?"
   ]
  },
  {
   "cell_type": "code",
   "execution_count": 36,
   "id": "cee38c64",
   "metadata": {},
   "outputs": [
    {
     "data": {
      "text/plain": [
       "Toronto      50307\n",
       "Vancouver    32173\n",
       "Montreal     19707\n",
       "Waterloo     14219\n",
       "Edmonton     12292\n",
       "Halifax       8301\n",
       "Ottawa        8120\n",
       "Regina        4881\n",
       "Name: city, dtype: int64"
      ]
     },
     "execution_count": 36,
     "metadata": {},
     "output_type": "execute_result"
    }
   ],
   "source": [
    "data['city'].value_counts()"
   ]
  },
  {
   "cell_type": "markdown",
   "id": "cc07b477",
   "metadata": {},
   "source": [
    "#### 4. What is the average income of people in Waterloo ?\n"
   ]
  },
  {
   "cell_type": "code",
   "execution_count": 21,
   "id": "c5245b52",
   "metadata": {},
   "outputs": [
    {
     "data": {
      "text/plain": [
       "city\n",
       "Edmonton      90277.513423\n",
       "Halifax       91554.571497\n",
       "Montreal      45252.231187\n",
       "Ottawa        70991.612808\n",
       "Regina       100756.209178\n",
       "Toronto       96857.131393\n",
       "Vancouver     95264.155410\n",
       "Waterloo     135078.415782\n",
       "Name: income, dtype: float64"
      ]
     },
     "execution_count": 21,
     "metadata": {},
     "output_type": "execute_result"
    }
   ],
   "source": [
    "data.groupby(\"city\")[\"income\"].mean()"
   ]
  },
  {
   "cell_type": "markdown",
   "id": "86183cdc",
   "metadata": {},
   "source": [
    "#### 5.  What is the average age of people in each city?"
   ]
  },
  {
   "cell_type": "code",
   "execution_count": 22,
   "id": "e9a79464",
   "metadata": {},
   "outputs": [
    {
     "data": {
      "text/plain": [
       "city\n",
       "Edmonton     44.651237\n",
       "Halifax      45.197807\n",
       "Montreal     45.058761\n",
       "Ottawa       44.802709\n",
       "Regina       44.965171\n",
       "Toronto      44.922118\n",
       "Vancouver    44.994094\n",
       "Waterloo     44.992756\n",
       "Name: age, dtype: float64"
      ]
     },
     "execution_count": 22,
     "metadata": {},
     "output_type": "execute_result"
    }
   ],
   "source": [
    "data.groupby(\"city\")[\"age\"].mean()"
   ]
  },
  {
   "cell_type": "markdown",
   "id": "3927a191",
   "metadata": {},
   "source": [
    "#### 6. What is the minimum age seen in the data?"
   ]
  },
  {
   "cell_type": "code",
   "execution_count": 24,
   "id": "d674eb0b",
   "metadata": {},
   "outputs": [
    {
     "data": {
      "text/plain": [
       "25"
      ]
     },
     "execution_count": 24,
     "metadata": {},
     "output_type": "execute_result"
    }
   ],
   "source": [
    "data[\"age\"].min()"
   ]
  },
  {
   "cell_type": "markdown",
   "id": "23710a1f",
   "metadata": {},
   "source": [
    "#### 7. What is the maximum age seen in the data?"
   ]
  },
  {
   "cell_type": "code",
   "execution_count": 25,
   "id": "5c682bf7",
   "metadata": {},
   "outputs": [
    {
     "data": {
      "text/plain": [
       "65"
      ]
     },
     "execution_count": 25,
     "metadata": {},
     "output_type": "execute_result"
    }
   ],
   "source": [
    "data[\"age\"].max()"
   ]
  },
  {
   "cell_type": "markdown",
   "id": "37c0edc2",
   "metadata": {},
   "source": [
    "#### 8. What is the maximum income seen in the data?"
   ]
  },
  {
   "cell_type": "code",
   "execution_count": 26,
   "id": "32a668c5",
   "metadata": {},
   "outputs": [
    {
     "data": {
      "text/plain": [
       "177157"
      ]
     },
     "execution_count": 26,
     "metadata": {},
     "output_type": "execute_result"
    }
   ],
   "source": [
    "data[\"income\"].max()"
   ]
  },
  {
   "cell_type": "markdown",
   "id": "d4e3a57a",
   "metadata": {},
   "source": [
    "#### 9. What is the minimum income seen in the data?\n"
   ]
  },
  {
   "cell_type": "code",
   "execution_count": 29,
   "id": "36c3608d",
   "metadata": {},
   "outputs": [
    {
     "data": {
      "text/plain": [
       "-654"
      ]
     },
     "execution_count": 29,
     "metadata": {},
     "output_type": "execute_result"
    }
   ],
   "source": [
    "data[\"income\"].min()"
   ]
  },
  {
   "cell_type": "markdown",
   "id": "4bfa5f5f",
   "metadata": {},
   "source": [
    "#### 10. What is the city with the most ill people ?\n"
   ]
  },
  {
   "cell_type": "code",
   "execution_count": 35,
   "id": "368db03e",
   "metadata": {},
   "outputs": [
    {
     "data": {
      "text/plain": [
       "city\n",
       "Toronto      50307\n",
       "Vancouver    32173\n",
       "Montreal     19707\n",
       "Waterloo     14219\n",
       "Edmonton     12292\n",
       "Halifax       8301\n",
       "Ottawa        8120\n",
       "Regina        4881\n",
       "Name: ill, dtype: int64"
      ]
     },
     "execution_count": 35,
     "metadata": {},
     "output_type": "execute_result"
    }
   ],
   "source": [
    "most_ill_city = data.groupby(\"city\").count().sort_values(by=\"ill\", ascending = False).ill\n",
    "most_ill_city"
   ]
  },
  {
   "cell_type": "markdown",
   "id": "dabe5c48",
   "metadata": {},
   "source": [
    "#### 11. Create  a new dataframe that just has people from Waterloo in it. Display the first 5 entries."
   ]
  },
  {
   "cell_type": "code",
   "execution_count": 37,
   "id": "f3eb51ec",
   "metadata": {},
   "outputs": [
    {
     "data": {
      "text/html": [
       "<div>\n",
       "<style scoped>\n",
       "    .dataframe tbody tr th:only-of-type {\n",
       "        vertical-align: middle;\n",
       "    }\n",
       "\n",
       "    .dataframe tbody tr th {\n",
       "        vertical-align: top;\n",
       "    }\n",
       "\n",
       "    .dataframe thead th {\n",
       "        text-align: right;\n",
       "    }\n",
       "</style>\n",
       "<table border=\"1\" class=\"dataframe\">\n",
       "  <thead>\n",
       "    <tr style=\"text-align: right;\">\n",
       "      <th></th>\n",
       "      <th>city</th>\n",
       "      <th>gender</th>\n",
       "      <th>age</th>\n",
       "      <th>income</th>\n",
       "      <th>ill</th>\n",
       "    </tr>\n",
       "  </thead>\n",
       "  <tbody>\n",
       "    <tr>\n",
       "      <th>102187</th>\n",
       "      <td>Waterloo</td>\n",
       "      <td>Male</td>\n",
       "      <td>31</td>\n",
       "      <td>150367</td>\n",
       "      <td>No</td>\n",
       "    </tr>\n",
       "    <tr>\n",
       "      <th>102188</th>\n",
       "      <td>Waterloo</td>\n",
       "      <td>Female</td>\n",
       "      <td>36</td>\n",
       "      <td>130426</td>\n",
       "      <td>No</td>\n",
       "    </tr>\n",
       "    <tr>\n",
       "      <th>102189</th>\n",
       "      <td>Waterloo</td>\n",
       "      <td>Female</td>\n",
       "      <td>42</td>\n",
       "      <td>130216</td>\n",
       "      <td>No</td>\n",
       "    </tr>\n",
       "    <tr>\n",
       "      <th>102190</th>\n",
       "      <td>Waterloo</td>\n",
       "      <td>Male</td>\n",
       "      <td>62</td>\n",
       "      <td>143263</td>\n",
       "      <td>No</td>\n",
       "    </tr>\n",
       "    <tr>\n",
       "      <th>102191</th>\n",
       "      <td>Waterloo</td>\n",
       "      <td>Female</td>\n",
       "      <td>48</td>\n",
       "      <td>152273</td>\n",
       "      <td>No</td>\n",
       "    </tr>\n",
       "  </tbody>\n",
       "</table>\n",
       "</div>"
      ],
      "text/plain": [
       "            city  gender  age  income ill\n",
       "102187  Waterloo    Male   31  150367  No\n",
       "102188  Waterloo  Female   36  130426  No\n",
       "102189  Waterloo  Female   42  130216  No\n",
       "102190  Waterloo    Male   62  143263  No\n",
       "102191  Waterloo  Female   48  152273  No"
      ]
     },
     "execution_count": 37,
     "metadata": {},
     "output_type": "execute_result"
    }
   ],
   "source": [
    "waterloo_people = data[data[\"city\"] == \"Waterloo\"]\n",
    "waterloo_people.head()"
   ]
  },
  {
   "cell_type": "markdown",
   "id": "ae8df0a7",
   "metadata": {},
   "source": [
    "#### 12. Describe the dataframe created above"
   ]
  },
  {
   "cell_type": "code",
   "execution_count": 38,
   "id": "801e1730",
   "metadata": {},
   "outputs": [
    {
     "data": {
      "text/html": [
       "<div>\n",
       "<style scoped>\n",
       "    .dataframe tbody tr th:only-of-type {\n",
       "        vertical-align: middle;\n",
       "    }\n",
       "\n",
       "    .dataframe tbody tr th {\n",
       "        vertical-align: top;\n",
       "    }\n",
       "\n",
       "    .dataframe thead th {\n",
       "        text-align: right;\n",
       "    }\n",
       "</style>\n",
       "<table border=\"1\" class=\"dataframe\">\n",
       "  <thead>\n",
       "    <tr style=\"text-align: right;\">\n",
       "      <th></th>\n",
       "      <th>age</th>\n",
       "      <th>income</th>\n",
       "    </tr>\n",
       "  </thead>\n",
       "  <tbody>\n",
       "    <tr>\n",
       "      <th>count</th>\n",
       "      <td>14219.000000</td>\n",
       "      <td>14219.000000</td>\n",
       "    </tr>\n",
       "    <tr>\n",
       "      <th>mean</th>\n",
       "      <td>44.992756</td>\n",
       "      <td>135078.415782</td>\n",
       "    </tr>\n",
       "    <tr>\n",
       "      <th>std</th>\n",
       "      <td>11.562080</td>\n",
       "      <td>11227.302304</td>\n",
       "    </tr>\n",
       "    <tr>\n",
       "      <th>min</th>\n",
       "      <td>25.000000</td>\n",
       "      <td>95202.000000</td>\n",
       "    </tr>\n",
       "    <tr>\n",
       "      <th>25%</th>\n",
       "      <td>35.000000</td>\n",
       "      <td>127482.000000</td>\n",
       "    </tr>\n",
       "    <tr>\n",
       "      <th>50%</th>\n",
       "      <td>45.000000</td>\n",
       "      <td>135220.000000</td>\n",
       "    </tr>\n",
       "    <tr>\n",
       "      <th>75%</th>\n",
       "      <td>55.000000</td>\n",
       "      <td>142738.500000</td>\n",
       "    </tr>\n",
       "    <tr>\n",
       "      <th>max</th>\n",
       "      <td>65.000000</td>\n",
       "      <td>177157.000000</td>\n",
       "    </tr>\n",
       "  </tbody>\n",
       "</table>\n",
       "</div>"
      ],
      "text/plain": [
       "                age         income\n",
       "count  14219.000000   14219.000000\n",
       "mean      44.992756  135078.415782\n",
       "std       11.562080   11227.302304\n",
       "min       25.000000   95202.000000\n",
       "25%       35.000000  127482.000000\n",
       "50%       45.000000  135220.000000\n",
       "75%       55.000000  142738.500000\n",
       "max       65.000000  177157.000000"
      ]
     },
     "execution_count": 38,
     "metadata": {},
     "output_type": "execute_result"
    }
   ],
   "source": [
    "waterloo_people.describe()"
   ]
  },
  {
   "cell_type": "markdown",
   "id": "b32749c8",
   "metadata": {},
   "source": [
    "#### 13. Create a new dataframe that just has ill people."
   ]
  },
  {
   "cell_type": "code",
   "execution_count": null,
   "id": "1c7e13ef",
   "metadata": {},
   "outputs": [],
   "source": [
    "illpeo"
   ]
  }
 ],
 "metadata": {
  "kernelspec": {
   "display_name": "Python 3",
   "language": "python",
   "name": "python3"
  },
  "language_info": {
   "codemirror_mode": {
    "name": "ipython",
    "version": 3
   },
   "file_extension": ".py",
   "mimetype": "text/x-python",
   "name": "python",
   "nbconvert_exporter": "python",
   "pygments_lexer": "ipython3",
   "version": "3.9.12"
  }
 },
 "nbformat": 4,
 "nbformat_minor": 5
}
