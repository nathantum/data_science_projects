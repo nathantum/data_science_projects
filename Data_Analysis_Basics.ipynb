{
 "cells": [
  {
   "cell_type": "markdown",
   "id": "3a89a6ae",
   "metadata": {},
   "source": [
    "### Toys Dataset\n",
    "#### In this data analysis project, we will explore the fictional  toy dataset. The dataset has been filtered so that it contains the toys from various cities in Canada. \n",
    "\n",
    "The data has 5 columns\n",
    "- City is a Canadian Cities\n",
    "- Gender is the self reported gender of the person\n",
    "- Age is a integer that represents how old the person in in the record is\n",
    "- Income the annual salary of the person as an integer\n",
    "- ill a 'Yes' or 'No' to indicate if the person is suffering from our mystery illness\n",
    "\n",
    "\n",
    "We will explore the dataset and find any insights from it. Python 3 will be used to perform analysis and visualizations."
   ]
  },
  {
   "cell_type": "code",
   "execution_count": 7,
   "id": "cb19cce0",
   "metadata": {},
   "outputs": [],
   "source": [
    "#  Load the libraries\n",
    "import pandas as pd\n",
    "import numpy as np\n"
   ]
  },
  {
   "cell_type": "markdown",
   "id": "1537a22a",
   "metadata": {},
   "source": [
    "Load the data into pandas dataframe. This data is already clean and no data cleaning is required. Let's take a look at the first 10 observations.\n"
   ]
  },
  {
   "cell_type": "code",
   "execution_count": 8,
   "id": "af9d29cf",
   "metadata": {},
   "outputs": [
    {
     "data": {
      "text/html": [
       "<div>\n",
       "<style scoped>\n",
       "    .dataframe tbody tr th:only-of-type {\n",
       "        vertical-align: middle;\n",
       "    }\n",
       "\n",
       "    .dataframe tbody tr th {\n",
       "        vertical-align: top;\n",
       "    }\n",
       "\n",
       "    .dataframe thead th {\n",
       "        text-align: right;\n",
       "    }\n",
       "</style>\n",
       "<table border=\"1\" class=\"dataframe\">\n",
       "  <thead>\n",
       "    <tr style=\"text-align: right;\">\n",
       "      <th></th>\n",
       "      <th>city</th>\n",
       "      <th>gender</th>\n",
       "      <th>age</th>\n",
       "      <th>income</th>\n",
       "      <th>ill</th>\n",
       "    </tr>\n",
       "  </thead>\n",
       "  <tbody>\n",
       "    <tr>\n",
       "      <th>0</th>\n",
       "      <td>Montreal</td>\n",
       "      <td>Male</td>\n",
       "      <td>41</td>\n",
       "      <td>40367</td>\n",
       "      <td>No</td>\n",
       "    </tr>\n",
       "    <tr>\n",
       "      <th>1</th>\n",
       "      <td>Montreal</td>\n",
       "      <td>Male</td>\n",
       "      <td>54</td>\n",
       "      <td>45084</td>\n",
       "      <td>No</td>\n",
       "    </tr>\n",
       "    <tr>\n",
       "      <th>2</th>\n",
       "      <td>Montreal</td>\n",
       "      <td>Male</td>\n",
       "      <td>42</td>\n",
       "      <td>52483</td>\n",
       "      <td>No</td>\n",
       "    </tr>\n",
       "    <tr>\n",
       "      <th>3</th>\n",
       "      <td>Montreal</td>\n",
       "      <td>Male</td>\n",
       "      <td>40</td>\n",
       "      <td>40941</td>\n",
       "      <td>No</td>\n",
       "    </tr>\n",
       "    <tr>\n",
       "      <th>4</th>\n",
       "      <td>Montreal</td>\n",
       "      <td>Male</td>\n",
       "      <td>46</td>\n",
       "      <td>50289</td>\n",
       "      <td>No</td>\n",
       "    </tr>\n",
       "  </tbody>\n",
       "</table>\n",
       "</div>"
      ],
      "text/plain": [
       "       city gender  age  income ill\n",
       "0  Montreal   Male   41   40367  No\n",
       "1  Montreal   Male   54   45084  No\n",
       "2  Montreal   Male   42   52483  No\n",
       "3  Montreal   Male   40   40941  No\n",
       "4  Montreal   Male   46   50289  No"
      ]
     },
     "execution_count": 8,
     "metadata": {},
     "output_type": "execute_result"
    }
   ],
   "source": [
    "data = pd.read_csv(\"https://brockdsl.github.io/Python_2.0_Workshop/canadian_toy_dataset.csv\")\n",
    "data.columns = [\"city\",\"gender\",\"age\",\"income\",\"ill\"]\n",
    "data.head()"
   ]
  },
  {
   "cell_type": "markdown",
   "id": "5414d514",
   "metadata": {},
   "source": [
    "Basics statistics for numerical variables"
   ]
  },
  {
   "cell_type": "code",
   "execution_count": 9,
   "id": "697dd678",
   "metadata": {},
   "outputs": [
    {
     "data": {
      "text/html": [
       "<div>\n",
       "<style scoped>\n",
       "    .dataframe tbody tr th:only-of-type {\n",
       "        vertical-align: middle;\n",
       "    }\n",
       "\n",
       "    .dataframe tbody tr th {\n",
       "        vertical-align: top;\n",
       "    }\n",
       "\n",
       "    .dataframe thead th {\n",
       "        text-align: right;\n",
       "    }\n",
       "</style>\n",
       "<table border=\"1\" class=\"dataframe\">\n",
       "  <thead>\n",
       "    <tr style=\"text-align: right;\">\n",
       "      <th></th>\n",
       "      <th>age</th>\n",
       "      <th>income</th>\n",
       "    </tr>\n",
       "  </thead>\n",
       "  <tbody>\n",
       "    <tr>\n",
       "      <th>count</th>\n",
       "      <td>150000.000000</td>\n",
       "      <td>150000.000000</td>\n",
       "    </tr>\n",
       "    <tr>\n",
       "      <th>mean</th>\n",
       "      <td>44.950200</td>\n",
       "      <td>91252.798273</td>\n",
       "    </tr>\n",
       "    <tr>\n",
       "      <th>std</th>\n",
       "      <td>11.572486</td>\n",
       "      <td>24989.500948</td>\n",
       "    </tr>\n",
       "    <tr>\n",
       "      <th>min</th>\n",
       "      <td>25.000000</td>\n",
       "      <td>-654.000000</td>\n",
       "    </tr>\n",
       "    <tr>\n",
       "      <th>25%</th>\n",
       "      <td>35.000000</td>\n",
       "      <td>80867.750000</td>\n",
       "    </tr>\n",
       "    <tr>\n",
       "      <th>50%</th>\n",
       "      <td>45.000000</td>\n",
       "      <td>93655.000000</td>\n",
       "    </tr>\n",
       "    <tr>\n",
       "      <th>75%</th>\n",
       "      <td>55.000000</td>\n",
       "      <td>104519.000000</td>\n",
       "    </tr>\n",
       "    <tr>\n",
       "      <th>max</th>\n",
       "      <td>65.000000</td>\n",
       "      <td>177157.000000</td>\n",
       "    </tr>\n",
       "  </tbody>\n",
       "</table>\n",
       "</div>"
      ],
      "text/plain": [
       "                 age         income\n",
       "count  150000.000000  150000.000000\n",
       "mean       44.950200   91252.798273\n",
       "std        11.572486   24989.500948\n",
       "min        25.000000    -654.000000\n",
       "25%        35.000000   80867.750000\n",
       "50%        45.000000   93655.000000\n",
       "75%        55.000000  104519.000000\n",
       "max        65.000000  177157.000000"
      ]
     },
     "execution_count": 9,
     "metadata": {},
     "output_type": "execute_result"
    }
   ],
   "source": [
    "data.describe()"
   ]
  },
  {
   "cell_type": "markdown",
   "id": "2d4e3102",
   "metadata": {},
   "source": [
    "### General Questions about from the dataset"
   ]
  },
  {
   "cell_type": "markdown",
   "id": "c8563ce5",
   "metadata": {},
   "source": [
    "#### 1. How many people are ill ?"
   ]
  },
  {
   "cell_type": "code",
   "execution_count": 14,
   "id": "6b4dfcdc",
   "metadata": {},
   "outputs": [
    {
     "data": {
      "text/plain": [
       "12139"
      ]
     },
     "execution_count": 14,
     "metadata": {},
     "output_type": "execute_result"
    }
   ],
   "source": [
    "# data.groupby(\"ill\").count()\n",
    "data[data[\"ill\"] == \"Yes\"].ill.count()"
   ]
  },
  {
   "cell_type": "markdown",
   "id": "39244cb5",
   "metadata": {},
   "source": [
    "#### 2. How many people are Male in this dataset ?"
   ]
  },
  {
   "cell_type": "code",
   "execution_count": 16,
   "id": "d41d5300",
   "metadata": {},
   "outputs": [
    {
     "data": {
      "text/plain": [
       "83800"
      ]
     },
     "execution_count": 16,
     "metadata": {},
     "output_type": "execute_result"
    }
   ],
   "source": [
    "data[data[\"gender\"] == \"Male\"].gender.count()"
   ]
  },
  {
   "cell_type": "markdown",
   "id": "ad72209e",
   "metadata": {},
   "source": [
    "#### 3. How many different cities are in the dataset?"
   ]
  },
  {
   "cell_type": "code",
   "execution_count": 36,
   "id": "c00333fe",
   "metadata": {},
   "outputs": [
    {
     "data": {
      "text/plain": [
       "Toronto      50307\n",
       "Vancouver    32173\n",
       "Montreal     19707\n",
       "Waterloo     14219\n",
       "Edmonton     12292\n",
       "Halifax       8301\n",
       "Ottawa        8120\n",
       "Regina        4881\n",
       "Name: city, dtype: int64"
      ]
     },
     "execution_count": 36,
     "metadata": {},
     "output_type": "execute_result"
    }
   ],
   "source": [
    "data['city'].value_counts()"
   ]
  },
  {
   "cell_type": "markdown",
   "id": "7d23ca0d",
   "metadata": {},
   "source": [
    "#### 4. What is the average income of people in Waterloo ?\n"
   ]
  },
  {
   "cell_type": "code",
   "execution_count": 21,
   "id": "504020a9",
   "metadata": {},
   "outputs": [
    {
     "data": {
      "text/plain": [
       "city\n",
       "Edmonton      90277.513423\n",
       "Halifax       91554.571497\n",
       "Montreal      45252.231187\n",
       "Ottawa        70991.612808\n",
       "Regina       100756.209178\n",
       "Toronto       96857.131393\n",
       "Vancouver     95264.155410\n",
       "Waterloo     135078.415782\n",
       "Name: income, dtype: float64"
      ]
     },
     "execution_count": 21,
     "metadata": {},
     "output_type": "execute_result"
    }
   ],
   "source": [
    "data.groupby(\"city\")[\"income\"].mean()"
   ]
  },
  {
   "cell_type": "markdown",
   "id": "8ab63ce3",
   "metadata": {},
   "source": [
    "#### 5.  What is the average age of people in each city?"
   ]
  },
  {
   "cell_type": "code",
   "execution_count": 22,
   "id": "8912b4f4",
   "metadata": {},
   "outputs": [
    {
     "data": {
      "text/plain": [
       "city\n",
       "Edmonton     44.651237\n",
       "Halifax      45.197807\n",
       "Montreal     45.058761\n",
       "Ottawa       44.802709\n",
       "Regina       44.965171\n",
       "Toronto      44.922118\n",
       "Vancouver    44.994094\n",
       "Waterloo     44.992756\n",
       "Name: age, dtype: float64"
      ]
     },
     "execution_count": 22,
     "metadata": {},
     "output_type": "execute_result"
    }
   ],
   "source": [
    "data.groupby(\"city\")[\"age\"].mean()"
   ]
  },
  {
   "cell_type": "markdown",
   "id": "61c6b651",
   "metadata": {},
   "source": [
    "#### 6. What is the minimum age seen in the data?"
   ]
  },
  {
   "cell_type": "code",
   "execution_count": 24,
   "id": "f9ddf7ce",
   "metadata": {},
   "outputs": [
    {
     "data": {
      "text/plain": [
       "25"
      ]
     },
     "execution_count": 24,
     "metadata": {},
     "output_type": "execute_result"
    }
   ],
   "source": [
    "data[\"age\"].min()"
   ]
  },
  {
   "cell_type": "markdown",
   "id": "1e882135",
   "metadata": {},
   "source": [
    "#### 7. What is the maximum age seen in the data?"
   ]
  },
  {
   "cell_type": "code",
   "execution_count": 25,
   "id": "7a9d1727",
   "metadata": {},
   "outputs": [
    {
     "data": {
      "text/plain": [
       "65"
      ]
     },
     "execution_count": 25,
     "metadata": {},
     "output_type": "execute_result"
    }
   ],
   "source": [
    "data[\"age\"].max()"
   ]
  },
  {
   "cell_type": "markdown",
   "id": "4c5a3043",
   "metadata": {},
   "source": [
    "#### 8. What is the maximum income seen in the data?"
   ]
  },
  {
   "cell_type": "code",
   "execution_count": 26,
   "id": "31d4073a",
   "metadata": {},
   "outputs": [
    {
     "data": {
      "text/plain": [
       "177157"
      ]
     },
     "execution_count": 26,
     "metadata": {},
     "output_type": "execute_result"
    }
   ],
   "source": [
    "data[\"income\"].max()"
   ]
  },
  {
   "cell_type": "markdown",
   "id": "4df2419b",
   "metadata": {},
   "source": [
    "#### 9. What is the minimum income seen in the data?\n"
   ]
  },
  {
   "cell_type": "code",
   "execution_count": 29,
   "id": "eb50bf73",
   "metadata": {},
   "outputs": [
    {
     "data": {
      "text/plain": [
       "-654"
      ]
     },
     "execution_count": 29,
     "metadata": {},
     "output_type": "execute_result"
    }
   ],
   "source": [
    "data[\"income\"].min()"
   ]
  },
  {
   "cell_type": "markdown",
   "id": "a810c4af",
   "metadata": {},
   "source": [
    "#### 10. What is the city with the most ill people ?\n"
   ]
  },
  {
   "cell_type": "code",
   "execution_count": 35,
   "id": "db398ed5",
   "metadata": {},
   "outputs": [
    {
     "data": {
      "text/plain": [
       "city\n",
       "Toronto      50307\n",
       "Vancouver    32173\n",
       "Montreal     19707\n",
       "Waterloo     14219\n",
       "Edmonton     12292\n",
       "Halifax       8301\n",
       "Ottawa        8120\n",
       "Regina        4881\n",
       "Name: ill, dtype: int64"
      ]
     },
     "execution_count": 35,
     "metadata": {},
     "output_type": "execute_result"
    }
   ],
   "source": [
    "most_ill_city = data.groupby(\"city\").count().sort_values(by=\"ill\", ascending = False).ill\n",
    "most_ill_city"
   ]
  },
  {
   "cell_type": "markdown",
   "id": "5fda7006",
   "metadata": {},
   "source": [
    "#### 11. Create  a new dataframe that just has people from Waterloo in it. Display the first 5 entries."
   ]
  },
  {
   "cell_type": "code",
   "execution_count": 37,
   "id": "254f90f0",
   "metadata": {},
   "outputs": [
    {
     "data": {
      "text/html": [
       "<div>\n",
       "<style scoped>\n",
       "    .dataframe tbody tr th:only-of-type {\n",
       "        vertical-align: middle;\n",
       "    }\n",
       "\n",
       "    .dataframe tbody tr th {\n",
       "        vertical-align: top;\n",
       "    }\n",
       "\n",
       "    .dataframe thead th {\n",
       "        text-align: right;\n",
       "    }\n",
       "</style>\n",
       "<table border=\"1\" class=\"dataframe\">\n",
       "  <thead>\n",
       "    <tr style=\"text-align: right;\">\n",
       "      <th></th>\n",
       "      <th>city</th>\n",
       "      <th>gender</th>\n",
       "      <th>age</th>\n",
       "      <th>income</th>\n",
       "      <th>ill</th>\n",
       "    </tr>\n",
       "  </thead>\n",
       "  <tbody>\n",
       "    <tr>\n",
       "      <th>102187</th>\n",
       "      <td>Waterloo</td>\n",
       "      <td>Male</td>\n",
       "      <td>31</td>\n",
       "      <td>150367</td>\n",
       "      <td>No</td>\n",
       "    </tr>\n",
       "    <tr>\n",
       "      <th>102188</th>\n",
       "      <td>Waterloo</td>\n",
       "      <td>Female</td>\n",
       "      <td>36</td>\n",
       "      <td>130426</td>\n",
       "      <td>No</td>\n",
       "    </tr>\n",
       "    <tr>\n",
       "      <th>102189</th>\n",
       "      <td>Waterloo</td>\n",
       "      <td>Female</td>\n",
       "      <td>42</td>\n",
       "      <td>130216</td>\n",
       "      <td>No</td>\n",
       "    </tr>\n",
       "    <tr>\n",
       "      <th>102190</th>\n",
       "      <td>Waterloo</td>\n",
       "      <td>Male</td>\n",
       "      <td>62</td>\n",
       "      <td>143263</td>\n",
       "      <td>No</td>\n",
       "    </tr>\n",
       "    <tr>\n",
       "      <th>102191</th>\n",
       "      <td>Waterloo</td>\n",
       "      <td>Female</td>\n",
       "      <td>48</td>\n",
       "      <td>152273</td>\n",
       "      <td>No</td>\n",
       "    </tr>\n",
       "  </tbody>\n",
       "</table>\n",
       "</div>"
      ],
      "text/plain": [
       "            city  gender  age  income ill\n",
       "102187  Waterloo    Male   31  150367  No\n",
       "102188  Waterloo  Female   36  130426  No\n",
       "102189  Waterloo  Female   42  130216  No\n",
       "102190  Waterloo    Male   62  143263  No\n",
       "102191  Waterloo  Female   48  152273  No"
      ]
     },
     "execution_count": 37,
     "metadata": {},
     "output_type": "execute_result"
    }
   ],
   "source": [
    "waterloo_people = data[data[\"city\"] == \"Waterloo\"]\n",
    "waterloo_people.head()"
   ]
  },
  {
   "cell_type": "markdown",
   "id": "a0ba561f",
   "metadata": {},
   "source": [
    "#### 12. Describe the dataframe created above"
   ]
  },
  {
   "cell_type": "code",
   "execution_count": 38,
   "id": "abe052d7",
   "metadata": {},
   "outputs": [
    {
     "data": {
      "text/html": [
       "<div>\n",
       "<style scoped>\n",
       "    .dataframe tbody tr th:only-of-type {\n",
       "        vertical-align: middle;\n",
       "    }\n",
       "\n",
       "    .dataframe tbody tr th {\n",
       "        vertical-align: top;\n",
       "    }\n",
       "\n",
       "    .dataframe thead th {\n",
       "        text-align: right;\n",
       "    }\n",
       "</style>\n",
       "<table border=\"1\" class=\"dataframe\">\n",
       "  <thead>\n",
       "    <tr style=\"text-align: right;\">\n",
       "      <th></th>\n",
       "      <th>age</th>\n",
       "      <th>income</th>\n",
       "    </tr>\n",
       "  </thead>\n",
       "  <tbody>\n",
       "    <tr>\n",
       "      <th>count</th>\n",
       "      <td>14219.000000</td>\n",
       "      <td>14219.000000</td>\n",
       "    </tr>\n",
       "    <tr>\n",
       "      <th>mean</th>\n",
       "      <td>44.992756</td>\n",
       "      <td>135078.415782</td>\n",
       "    </tr>\n",
       "    <tr>\n",
       "      <th>std</th>\n",
       "      <td>11.562080</td>\n",
       "      <td>11227.302304</td>\n",
       "    </tr>\n",
       "    <tr>\n",
       "      <th>min</th>\n",
       "      <td>25.000000</td>\n",
       "      <td>95202.000000</td>\n",
       "    </tr>\n",
       "    <tr>\n",
       "      <th>25%</th>\n",
       "      <td>35.000000</td>\n",
       "      <td>127482.000000</td>\n",
       "    </tr>\n",
       "    <tr>\n",
       "      <th>50%</th>\n",
       "      <td>45.000000</td>\n",
       "      <td>135220.000000</td>\n",
       "    </tr>\n",
       "    <tr>\n",
       "      <th>75%</th>\n",
       "      <td>55.000000</td>\n",
       "      <td>142738.500000</td>\n",
       "    </tr>\n",
       "    <tr>\n",
       "      <th>max</th>\n",
       "      <td>65.000000</td>\n",
       "      <td>177157.000000</td>\n",
       "    </tr>\n",
       "  </tbody>\n",
       "</table>\n",
       "</div>"
      ],
      "text/plain": [
       "                age         income\n",
       "count  14219.000000   14219.000000\n",
       "mean      44.992756  135078.415782\n",
       "std       11.562080   11227.302304\n",
       "min       25.000000   95202.000000\n",
       "25%       35.000000  127482.000000\n",
       "50%       45.000000  135220.000000\n",
       "75%       55.000000  142738.500000\n",
       "max       65.000000  177157.000000"
      ]
     },
     "execution_count": 38,
     "metadata": {},
     "output_type": "execute_result"
    }
   ],
   "source": [
    "waterloo_people.describe()"
   ]
  },
  {
   "cell_type": "markdown",
   "id": "1133c14e",
   "metadata": {},
   "source": [
    "#### 13. Create a new dataframe that just has ill people."
   ]
  },
  {
   "cell_type": "code",
   "execution_count": 41,
   "id": "4252f8c9",
   "metadata": {},
   "outputs": [
    {
     "data": {
      "text/html": [
       "<div>\n",
       "<style scoped>\n",
       "    .dataframe tbody tr th:only-of-type {\n",
       "        vertical-align: middle;\n",
       "    }\n",
       "\n",
       "    .dataframe tbody tr th {\n",
       "        vertical-align: top;\n",
       "    }\n",
       "\n",
       "    .dataframe thead th {\n",
       "        text-align: right;\n",
       "    }\n",
       "</style>\n",
       "<table border=\"1\" class=\"dataframe\">\n",
       "  <thead>\n",
       "    <tr style=\"text-align: right;\">\n",
       "      <th></th>\n",
       "      <th>age</th>\n",
       "      <th>income</th>\n",
       "    </tr>\n",
       "  </thead>\n",
       "  <tbody>\n",
       "    <tr>\n",
       "      <th>count</th>\n",
       "      <td>12139.000000</td>\n",
       "      <td>12139.000000</td>\n",
       "    </tr>\n",
       "    <tr>\n",
       "      <th>mean</th>\n",
       "      <td>45.020842</td>\n",
       "      <td>91277.875360</td>\n",
       "    </tr>\n",
       "    <tr>\n",
       "      <th>std</th>\n",
       "      <td>11.554130</td>\n",
       "      <td>25094.894386</td>\n",
       "    </tr>\n",
       "    <tr>\n",
       "      <th>min</th>\n",
       "      <td>25.000000</td>\n",
       "      <td>-654.000000</td>\n",
       "    </tr>\n",
       "    <tr>\n",
       "      <th>25%</th>\n",
       "      <td>35.000000</td>\n",
       "      <td>80796.000000</td>\n",
       "    </tr>\n",
       "    <tr>\n",
       "      <th>50%</th>\n",
       "      <td>45.000000</td>\n",
       "      <td>93779.000000</td>\n",
       "    </tr>\n",
       "    <tr>\n",
       "      <th>75%</th>\n",
       "      <td>55.000000</td>\n",
       "      <td>104672.500000</td>\n",
       "    </tr>\n",
       "    <tr>\n",
       "      <th>max</th>\n",
       "      <td>65.000000</td>\n",
       "      <td>166458.000000</td>\n",
       "    </tr>\n",
       "  </tbody>\n",
       "</table>\n",
       "</div>"
      ],
      "text/plain": [
       "                age         income\n",
       "count  12139.000000   12139.000000\n",
       "mean      45.020842   91277.875360\n",
       "std       11.554130   25094.894386\n",
       "min       25.000000    -654.000000\n",
       "25%       35.000000   80796.000000\n",
       "50%       45.000000   93779.000000\n",
       "75%       55.000000  104672.500000\n",
       "max       65.000000  166458.000000"
      ]
     },
     "execution_count": 41,
     "metadata": {},
     "output_type": "execute_result"
    }
   ],
   "source": [
    "ill_people = data[data[\"ill\"] == \"Yes\"]\n",
    "ill_people.describe()"
   ]
  },
  {
   "cell_type": "markdown",
   "id": "61264a44",
   "metadata": {},
   "source": [
    "#### 14. Can you display how many people are ill in each city ?"
   ]
  },
  {
   "cell_type": "code",
   "execution_count": 51,
   "id": "83957123",
   "metadata": {},
   "outputs": [
    {
     "data": {
      "text/plain": [
       "Toronto      4021\n",
       "Vancouver    2568\n",
       "Montreal     1613\n",
       "Waterloo     1178\n",
       "Edmonton     1011\n",
       "Halifax       686\n",
       "Ottawa        668\n",
       "Regina        394\n",
       "Name: city, dtype: int64"
      ]
     },
     "execution_count": 51,
     "metadata": {},
     "output_type": "execute_result"
    }
   ],
   "source": [
    "ill_people_per_city = ill_people[\"city\"].value_counts().sort_values(ascending= False)\n",
    "ill_people_per_city"
   ]
  },
  {
   "cell_type": "markdown",
   "id": "353e8b19",
   "metadata": {},
   "source": [
    "#### 15. What is the average age of people in the ill_people dataset?"
   ]
  },
  {
   "cell_type": "code",
   "execution_count": 52,
   "id": "2842ce38",
   "metadata": {},
   "outputs": [
    {
     "data": {
      "text/plain": [
       "45.02084191449048"
      ]
     },
     "execution_count": 52,
     "metadata": {},
     "output_type": "execute_result"
    }
   ],
   "source": [
    "avg_age_ill_people = ill_people[\"age\"].mean()\n",
    "avg_age_ill_people"
   ]
  },
  {
   "cell_type": "markdown",
   "id": "49df7718",
   "metadata": {},
   "source": [
    "#### 16. What percentage of people in the ill_people dataset have a salary over $100000. "
   ]
  },
  {
   "cell_type": "code",
   "execution_count": 57,
   "id": "b064ca73",
   "metadata": {},
   "outputs": [
    {
     "data": {
      "text/plain": [
       "35.06878655572947"
      ]
     },
     "execution_count": 57,
     "metadata": {},
     "output_type": "execute_result"
    }
   ],
   "source": [
    "percent_people_100k = len(ill_people[ill_people[\"income\"] > 100000])/ len(ill_people)\n",
    "percent_people_100k*100"
   ]
  },
  {
   "cell_type": "markdown",
   "id": "b3710935",
   "metadata": {},
   "source": [
    "#### 17. Can change the ill column values so that No is encoded as 0 and Yes is encoded as 1 ?\n"
   ]
  },
  {
   "cell_type": "code",
   "execution_count": 59,
   "id": "566a992b",
   "metadata": {},
   "outputs": [],
   "source": [
    "data[\"ill\"].replace({\"No\":0, \"Yes\":1}, inplace = True)"
   ]
  },
  {
   "cell_type": "markdown",
   "id": "3b546551",
   "metadata": {},
   "source": [
    "### Data visualizations"
   ]
  },
  {
   "cell_type": "code",
   "execution_count": 76,
   "id": "a0b9fbdb",
   "metadata": {},
   "outputs": [
    {
     "data": {
      "text/html": [
       "<div>\n",
       "<style scoped>\n",
       "    .dataframe tbody tr th:only-of-type {\n",
       "        vertical-align: middle;\n",
       "    }\n",
       "\n",
       "    .dataframe tbody tr th {\n",
       "        vertical-align: top;\n",
       "    }\n",
       "\n",
       "    .dataframe thead th {\n",
       "        text-align: right;\n",
       "    }\n",
       "</style>\n",
       "<table border=\"1\" class=\"dataframe\">\n",
       "  <thead>\n",
       "    <tr style=\"text-align: right;\">\n",
       "      <th></th>\n",
       "      <th>city</th>\n",
       "      <th>gender</th>\n",
       "      <th>age</th>\n",
       "      <th>income</th>\n",
       "      <th>ill</th>\n",
       "    </tr>\n",
       "  </thead>\n",
       "  <tbody>\n",
       "    <tr>\n",
       "      <th>0</th>\n",
       "      <td>Montreal</td>\n",
       "      <td>Male</td>\n",
       "      <td>41</td>\n",
       "      <td>40367</td>\n",
       "      <td>No</td>\n",
       "    </tr>\n",
       "    <tr>\n",
       "      <th>1</th>\n",
       "      <td>Montreal</td>\n",
       "      <td>Male</td>\n",
       "      <td>54</td>\n",
       "      <td>45084</td>\n",
       "      <td>No</td>\n",
       "    </tr>\n",
       "    <tr>\n",
       "      <th>2</th>\n",
       "      <td>Montreal</td>\n",
       "      <td>Male</td>\n",
       "      <td>42</td>\n",
       "      <td>52483</td>\n",
       "      <td>No</td>\n",
       "    </tr>\n",
       "  </tbody>\n",
       "</table>\n",
       "</div>"
      ],
      "text/plain": [
       "       city gender  age  income ill\n",
       "0  Montreal   Male   41   40367  No\n",
       "1  Montreal   Male   54   45084  No\n",
       "2  Montreal   Male   42   52483  No"
      ]
     },
     "execution_count": 76,
     "metadata": {},
     "output_type": "execute_result"
    }
   ],
   "source": [
    "#Load data\n",
    "graph_data = pd.read_csv(\"https://brockdsl.github.io/Python_2.0_Workshop/canadian_toy_dataset.csv\")\n",
    "\n",
    "#data columns\n",
    "graph_data.columns = [\"city\",\"gender\",\"age\",\"income\",\"ill\"]\n",
    "\n",
    "graph_data.head(3)"
   ]
  },
  {
   "cell_type": "code",
   "execution_count": 66,
   "id": "72466a7e",
   "metadata": {},
   "outputs": [],
   "source": [
    "# Import visualization libraries\n",
    "import matplotlib.pyplot as plt"
   ]
  },
  {
   "cell_type": "markdown",
   "id": "c4cd76b5",
   "metadata": {},
   "source": [
    "### Let's make some Pies"
   ]
  },
  {
   "cell_type": "markdown",
   "id": "cd6ffb87",
   "metadata": {},
   "source": [
    "#### Draw a pie chart of the number of people that are ill versus people that are not ill. "
   ]
  },
  {
   "cell_type": "code",
   "execution_count": 68,
   "id": "fa89410e",
   "metadata": {},
   "outputs": [
    {
     "data": {
      "text/plain": [
       "12139"
      ]
     },
     "execution_count": 68,
     "metadata": {},
     "output_type": "execute_result"
    }
   ],
   "source": [
    "all_ill_people = graph_data[graph_data[\"ill\"] == \"Yes\"].ill.count()\n",
    "all_ill_people"
   ]
  },
  {
   "cell_type": "code",
   "execution_count": 69,
   "id": "cbde036b",
   "metadata": {},
   "outputs": [
    {
     "data": {
      "text/plain": [
       "137861"
      ]
     },
     "execution_count": 69,
     "metadata": {},
     "output_type": "execute_result"
    }
   ],
   "source": [
    "all_non_ill_people = graph_data[graph_data[\"ill\"] == \"No\"].ill.count()\n",
    "all_non_ill_people"
   ]
  },
  {
   "cell_type": "code",
   "execution_count": 70,
   "id": "e554c614",
   "metadata": {},
   "outputs": [
    {
     "data": {
      "image/png": "[encoded data removed]",
      "text/plain": [
       "<Figure size 432x288 with 1 Axes>"
      ]
     },
     "metadata": {},
     "output_type": "display_data"
    }
   ],
   "source": [
    "pie_data = [all_ill_people, all_non_ill_people]\n",
    "pie_labels = [\"Ill\", \"Not Ill\"]\n",
    "plt.pie(pie_data, labels = pie_labels)\n",
    "plt.show()"
   ]
  },
  {
   "cell_type": "markdown",
   "id": "682d08a5",
   "metadata": {},
   "source": [
    "#### 18. Create a pie graph that shows the gender distribution in the data? \n"
   ]
  },
  {
   "cell_type": "code",
   "execution_count": 72,
   "id": "0b8cb92d",
   "metadata": {},
   "outputs": [
    {
     "data": {
      "image/png": "[encoded data removed]",
      "text/plain": [
       "<Figure size 432x288 with 1 Axes>"
      ]
     },
     "metadata": {},
     "output_type": "display_data"
    }
   ],
   "source": [
    "females_ills = graph_data[graph_data[\"gender\"] == \"Female\"][\"ill\"].count()\n",
    "males_ills = graph_data[graph_data[\"gender\"] == \"Male\"][\"ill\"].count()\n",
    "pie_gender_data = [females_ills, males_ills]\n",
    "pie_gender_labels = [\"Females\", \"Males\"]\n",
    "plt.pie(pie_gender_data, labels = pie_gender_labels)\n",
    "plt.show()"
   ]
  },
  {
   "cell_type": "markdown",
   "id": "84fc7a1c",
   "metadata": {},
   "source": [
    "#### 19.  Create a pie graph that shows the how many people in the dataset make over 100000 annual income? "
   ]
  },
  {
   "cell_type": "code",
   "execution_count": 73,
   "id": "77c1b431",
   "metadata": {},
   "outputs": [
    {
     "data": {
      "image/png": "[encoded data removed]",
      "text/plain": [
       "<Figure size 432x288 with 1 Axes>"
      ]
     },
     "metadata": {},
     "output_type": "display_data"
    }
   ],
   "source": [
    "over_100k = graph_data[graph_data[\"income\"] > 100000][\"income\"].count()\n",
    "\n",
    "\n",
    "under_100k = graph_data[graph_data[\"income\"] < 100000][\"income\"].count()\n",
    "\n",
    "pie_data = [over_100k, under_100k]\n",
    "pie_labels = [\"Over 100k\",\"Under 100k\"]\n",
    "plt.pie(pie_data,labels=pie_labels)\n",
    "\n",
    "plt.show()"
   ]
  },
  {
   "cell_type": "markdown",
   "id": "3405079b",
   "metadata": {},
   "source": [
    "### Histograms"
   ]
  },
  {
   "cell_type": "markdown",
   "id": "803a60cb",
   "metadata": {},
   "source": [
    "### Histogram of the Age distribution"
   ]
  },
  {
   "cell_type": "code",
   "execution_count": 80,
   "id": "f4cbc284",
   "metadata": {},
   "outputs": [
    {
     "data": {
      "image/png": "[encoded data removed]",
      "text/plain": [
       "<Figure size 432x288 with 1 Axes>"
      ]
     },
     "metadata": {
      "needs_background": "light"
     },
     "output_type": "display_data"
    }
   ],
   "source": [
    "bins = 250\n",
    "plt.hist(graph_data[\"income\"], bins)\n",
    "plt.title(\"Income Distribution\")\n",
    "plt.xlabel(\"Income\")\n",
    "plt.ylabel(\"Occurences\")\n",
    "plt.grid()\n",
    "plt.show()"
   ]
  },
  {
   "cell_type": "markdown",
   "id": "b6237e1d",
   "metadata": {},
   "source": [
    "### Histogram of Age Distribution \n"
   ]
  },
  {
   "cell_type": "code",
   "execution_count": 82,
   "id": "4eeb49e9",
   "metadata": {},
   "outputs": [
    {
     "data": {
      "image/png": "[encoded data removed]",
      "text/plain": [
       "<Figure size 432x288 with 1 Axes>"
      ]
     },
     "metadata": {
      "needs_background": "light"
     },
     "output_type": "display_data"
    }
   ],
   "source": [
    "bins = 50\n",
    "plt.hist(graph_data[\"age\"], bins)\n",
    "plt.title(\"Age Distribution\")\n",
    "plt.xlabel(\"age\")\n",
    "plt.ylabel(\"Occurences\")\n",
    "plt.grid()\n",
    "plt.show()"
   ]
  },
  {
   "cell_type": "code",
   "execution_count": null,
   "id": "38db3994",
   "metadata": {},
   "outputs": [],
   "source": []
  }
 ],
 "metadata": {
  "kernelspec": {
   "display_name": "Python 3",
   "language": "python",
   "name": "python3"
  },
  "language_info": {
   "codemirror_mode": {
    "name": "ipython",
    "version": 3
   },
   "file_extension": ".py",
   "mimetype": "text/x-python",
   "name": "python",
   "nbconvert_exporter": "python",
   "pygments_lexer": "ipython3",
   "version": "3.9.12"
  }
 },
 "nbformat": 4,
 "nbformat_minor": 5
}
