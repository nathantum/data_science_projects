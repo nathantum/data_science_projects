{
 "cells": [
  {
   "cell_type": "markdown",
   "id": "2d6ec4be",
   "metadata": {},
   "source": [
    "### Toys Dataset\n",
    "#### In this data analysis project, we will explore the fictional  toys dataset. The dataset has been filtered so that it contains the toys from various cities in Canada. \n",
    "\n",
    "The data has 5 columns\n",
    "- City is a Canadian Cities\n",
    "- Gender is the self reported gender of the person\n",
    "- Age is a integer that represents how old the person in in the record is\n",
    "- Income the annual salary of the person as an integer\n",
    "- ill a 'Yes' or 'No' to indicate if the person is suffering from our mystery illness\n",
    "\n",
    "\n",
    "We will explore the dataset and find any insights from it. Python 3 will be used to perform analysis and visualizations."
   ]
  },
  {
   "cell_type": "code",
   "execution_count": null,
   "id": "92663fe3",
   "metadata": {},
   "outputs": [],
   "source": [
    "#  Load the libraries\n",
    "import pandas as pd\n",
    "import numpy as np\n"
   ]
  }
 ],
 "metadata": {
  "kernelspec": {
   "display_name": "Python 3",
   "language": "python",
   "name": "python3"
  },
  "language_info": {
   "codemirror_mode": {
    "name": "ipython",
    "version": 3
   },
   "file_extension": ".py",
   "mimetype": "text/x-python",
   "name": "python",
   "nbconvert_exporter": "python",
   "pygments_lexer": "ipython3",
   "version": "3.9.12"
  }
 },
 "nbformat": 4,
 "nbformat_minor": 5
}
