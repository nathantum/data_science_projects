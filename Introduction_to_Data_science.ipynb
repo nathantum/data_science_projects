{
 "cells": [
  {
   "cell_type": "markdown",
   "id": "d7c62cbc",
   "metadata": {},
   "source": [
    "## A Data Science case study"
   ]
  },
  {
   "cell_type": "markdown",
   "id": "dd152c99",
   "metadata": {},
   "source": [
    "This case study is about analyzing academic articles in PDF from Sci-Hub website in the Niagara region using the Python programming language. \n",
    "The SCI-Hub database provides data of usage logs of the articles. The data is from 2017. We will do some exploration and visualization on this data to learn more about usage of these articles. "
   ]
  },
  {
   "cell_type": "code",
   "execution_count": 1,
   "id": "1b436275",
   "metadata": {},
   "outputs": [
    {
     "name": "stdout",
     "output_type": "stream",
     "text": [
      "Welcome to this case study\n"
     ]
    }
   ],
   "source": [
    "# Welcome to the case study.\n",
    "\n",
    "print(\"Welcome to this case study\")\n"
   ]
  },
  {
   "cell_type": "code",
   "execution_count": 27,
   "id": "f2b00404",
   "metadata": {},
   "outputs": [
    {
     "data": {
      "text/html": [
       "<div>\n",
       "<style scoped>\n",
       "    .dataframe tbody tr th:only-of-type {\n",
       "        vertical-align: middle;\n",
       "    }\n",
       "\n",
       "    .dataframe tbody tr th {\n",
       "        vertical-align: top;\n",
       "    }\n",
       "\n",
       "    .dataframe thead th {\n",
       "        text-align: right;\n",
       "    }\n",
       "</style>\n",
       "<table border=\"1\" class=\"dataframe\">\n",
       "  <thead>\n",
       "    <tr style=\"text-align: right;\">\n",
       "      <th></th>\n",
       "      <th>date</th>\n",
       "      <th>doi</th>\n",
       "      <th>pub_code</th>\n",
       "      <th>user_code</th>\n",
       "      <th>country</th>\n",
       "      <th>city</th>\n",
       "      <th>lat</th>\n",
       "      <th>long</th>\n",
       "    </tr>\n",
       "  </thead>\n",
       "  <tbody>\n",
       "    <tr>\n",
       "      <th>15669</th>\n",
       "      <td>2017-12-30 02:11:20</td>\n",
       "      <td>10.1109/MSP.2014.2329397</td>\n",
       "      <td>17149789</td>\n",
       "      <td>46591555</td>\n",
       "      <td>Canada</td>\n",
       "      <td>Saint Catharines</td>\n",
       "      <td>43.159374</td>\n",
       "      <td>-79.246863</td>\n",
       "    </tr>\n",
       "    <tr>\n",
       "      <th>10676</th>\n",
       "      <td>2017-12-30 02:11:20</td>\n",
       "      <td>10.1109/MSP.2014.2329397</td>\n",
       "      <td>17149789</td>\n",
       "      <td>46591555</td>\n",
       "      <td>Canada</td>\n",
       "      <td>Saint Catharines</td>\n",
       "      <td>43.159374</td>\n",
       "      <td>-79.246863</td>\n",
       "    </tr>\n",
       "    <tr>\n",
       "      <th>4791</th>\n",
       "      <td>2017-12-30 02:11:20</td>\n",
       "      <td>10.1109/MSP.2014.2329397</td>\n",
       "      <td>17149789</td>\n",
       "      <td>46591555</td>\n",
       "      <td>Canada</td>\n",
       "      <td>Saint Catharines</td>\n",
       "      <td>43.159374</td>\n",
       "      <td>-79.246863</td>\n",
       "    </tr>\n",
       "    <tr>\n",
       "      <th>19770</th>\n",
       "      <td>2017-12-30 02:11:20</td>\n",
       "      <td>10.1109/MSP.2014.2329397</td>\n",
       "      <td>17149789</td>\n",
       "      <td>46591555</td>\n",
       "      <td>Canada</td>\n",
       "      <td>Saint Catharines</td>\n",
       "      <td>43.159374</td>\n",
       "      <td>-79.246863</td>\n",
       "    </tr>\n",
       "    <tr>\n",
       "      <th>15668</th>\n",
       "      <td>2017-12-29 01:50:42</td>\n",
       "      <td>10.1111/j.1462-2920.2012.02747.x</td>\n",
       "      <td>7765001</td>\n",
       "      <td>46417065</td>\n",
       "      <td>Canada</td>\n",
       "      <td>Saint Catharines</td>\n",
       "      <td>43.159374</td>\n",
       "      <td>-79.246863</td>\n",
       "    </tr>\n",
       "    <tr>\n",
       "      <th>4790</th>\n",
       "      <td>2017-12-29 01:50:42</td>\n",
       "      <td>10.1111/j.1462-2920.2012.02747.x</td>\n",
       "      <td>7765001</td>\n",
       "      <td>46417065</td>\n",
       "      <td>Canada</td>\n",
       "      <td>Saint Catharines</td>\n",
       "      <td>43.159374</td>\n",
       "      <td>-79.246863</td>\n",
       "    </tr>\n",
       "    <tr>\n",
       "      <th>10675</th>\n",
       "      <td>2017-12-29 01:50:42</td>\n",
       "      <td>10.1111/j.1462-2920.2012.02747.x</td>\n",
       "      <td>7765001</td>\n",
       "      <td>46417065</td>\n",
       "      <td>Canada</td>\n",
       "      <td>Saint Catharines</td>\n",
       "      <td>43.159374</td>\n",
       "      <td>-79.246863</td>\n",
       "    </tr>\n",
       "    <tr>\n",
       "      <th>19769</th>\n",
       "      <td>2017-12-29 01:50:42</td>\n",
       "      <td>10.1111/j.1462-2920.2012.02747.x</td>\n",
       "      <td>7765001</td>\n",
       "      <td>46417065</td>\n",
       "      <td>Canada</td>\n",
       "      <td>Saint Catharines</td>\n",
       "      <td>43.159374</td>\n",
       "      <td>-79.246863</td>\n",
       "    </tr>\n",
       "    <tr>\n",
       "      <th>6001</th>\n",
       "      <td>2017-12-28 16:53:48</td>\n",
       "      <td>10.1517/14740338.5.3.433</td>\n",
       "      <td>7953269</td>\n",
       "      <td>46354212</td>\n",
       "      <td>Canada</td>\n",
       "      <td>Fort Erie</td>\n",
       "      <td>42.901776</td>\n",
       "      <td>-78.972174</td>\n",
       "    </tr>\n",
       "    <tr>\n",
       "      <th>10994</th>\n",
       "      <td>2017-12-28 16:53:48</td>\n",
       "      <td>10.1517/14740338.5.3.433</td>\n",
       "      <td>7953269</td>\n",
       "      <td>46354212</td>\n",
       "      <td>Canada</td>\n",
       "      <td>Fort Erie</td>\n",
       "      <td>42.901776</td>\n",
       "      <td>-78.972174</td>\n",
       "    </tr>\n",
       "  </tbody>\n",
       "</table>\n",
       "</div>"
      ],
      "text/plain": [
       "                      date                               doi  pub_code  \\\n",
       "15669  2017-12-30 02:11:20          10.1109/MSP.2014.2329397  17149789   \n",
       "10676  2017-12-30 02:11:20          10.1109/MSP.2014.2329397  17149789   \n",
       "4791   2017-12-30 02:11:20          10.1109/MSP.2014.2329397  17149789   \n",
       "19770  2017-12-30 02:11:20          10.1109/MSP.2014.2329397  17149789   \n",
       "15668  2017-12-29 01:50:42  10.1111/j.1462-2920.2012.02747.x   7765001   \n",
       "4790   2017-12-29 01:50:42  10.1111/j.1462-2920.2012.02747.x   7765001   \n",
       "10675  2017-12-29 01:50:42  10.1111/j.1462-2920.2012.02747.x   7765001   \n",
       "19769  2017-12-29 01:50:42  10.1111/j.1462-2920.2012.02747.x   7765001   \n",
       "6001   2017-12-28 16:53:48          10.1517/14740338.5.3.433   7953269   \n",
       "10994  2017-12-28 16:53:48          10.1517/14740338.5.3.433   7953269   \n",
       "\n",
       "       user_code country              city        lat       long  \n",
       "15669   46591555  Canada  Saint Catharines  43.159374 -79.246863  \n",
       "10676   46591555  Canada  Saint Catharines  43.159374 -79.246863  \n",
       "4791    46591555  Canada  Saint Catharines  43.159374 -79.246863  \n",
       "19770   46591555  Canada  Saint Catharines  43.159374 -79.246863  \n",
       "15668   46417065  Canada  Saint Catharines  43.159374 -79.246863  \n",
       "4790    46417065  Canada  Saint Catharines  43.159374 -79.246863  \n",
       "10675   46417065  Canada  Saint Catharines  43.159374 -79.246863  \n",
       "19769   46417065  Canada  Saint Catharines  43.159374 -79.246863  \n",
       "6001    46354212  Canada         Fort Erie  42.901776 -78.972174  \n",
       "10994   46354212  Canada         Fort Erie  42.901776 -78.972174  "
      ]
     },
     "execution_count": 27,
     "metadata": {},
     "output_type": "execute_result"
    }
   ],
   "source": [
    "# import required libraries\n",
    "import pandas as pd\n",
    "import matplotlib.pyplot as plt\n",
    "%matplotlib inline\n",
    "\n",
    "# load the dataset\n",
    "data = pd.read_csv(\"https://raw.githubusercontent.com/BrockDSL/SciHub_Workshop/master/niagara_scihub_2017_use.tab\",sep=\"\\t\")\n",
    "\n",
    "# specify the columns\n",
    "data.columns = [\"date\",\"doi\",\"pub_code\",\"user_code\",\"country\",\"city\",\"lat\",\"long\"]\n",
    "\n",
    "# sort the dataset\n",
    "data = data.sort_values(by=\"date\", ascending = False)\n",
    "\n",
    "# Look at the first 10 columns of the data\n",
    "data.head(10)"
   ]
  },
  {
   "cell_type": "markdown",
   "id": "414d8425",
   "metadata": {},
   "source": [
    "### Columns Description\n",
    "Let's look at what different columns are in our data.\n",
    "- date - The date the article was downloaded\n",
    "- doi - Is something like the serial number of the article more info\n",
    "- pub_code - a randomized serial number that represents the publisher behind the article\n",
    "- user_code - a randomized serial number that represents the user who downloaed the article\n",
    "- county - The country the usage is from. (The original datafile is global)\n",
    "- city - Which city in Niagara the user lives in\n",
    "- lat - the latitude of the center of the city found in city\n",
    "- long - the longtitude of the center of the city found in city\n"
   ]
  },
  {
   "cell_type": "markdown",
   "id": "a5043eaa",
   "metadata": {},
   "source": [
    "### Answering questions on the dataset"
   ]
  },
  {
   "cell_type": "markdown",
   "id": "b5cc7098",
   "metadata": {},
   "source": [
    "#### 1. How many entries are in the dataset?"
   ]
  },
  {
   "cell_type": "code",
   "execution_count": 28,
   "id": "4055a846",
   "metadata": {},
   "outputs": [
    {
     "data": {
      "text/plain": [
       "20629"
      ]
     },
     "execution_count": 28,
     "metadata": {},
     "output_type": "execute_result"
    }
   ],
   "source": [
    "total_papers = len(data)\n",
    "total_papers"
   ]
  },
  {
   "cell_type": "markdown",
   "id": "352bdd60",
   "metadata": {},
   "source": [
    "#### 2. How many users are in the dataset ?\n",
    "Hint: user_code  column represents the user who downloaed the article"
   ]
  },
  {
   "cell_type": "code",
   "execution_count": 29,
   "id": "8e4fbe1c",
   "metadata": {},
   "outputs": [
    {
     "data": {
      "text/plain": [
       "1040"
      ]
     },
     "execution_count": 29,
     "metadata": {},
     "output_type": "execute_result"
    }
   ],
   "source": [
    "unique_users = data[\"user_code\"].nunique()\n",
    "unique_users"
   ]
  },
  {
   "cell_type": "markdown",
   "id": "17c86c45",
   "metadata": {},
   "source": [
    "#### 3. How many unique paper are in the data?\n",
    "doi column represent a unique paper."
   ]
  },
  {
   "cell_type": "code",
   "execution_count": 30,
   "id": "3cfd10f0",
   "metadata": {},
   "outputs": [
    {
     "data": {
      "text/plain": [
       "4673"
      ]
     },
     "execution_count": 30,
     "metadata": {},
     "output_type": "execute_result"
    }
   ],
   "source": [
    "unique_papers = data[\"doi\"].nunique()\n",
    "unique_papers"
   ]
  },
  {
   "cell_type": "markdown",
   "id": "3adfb395",
   "metadata": {},
   "source": [
    "#### 4. How many unique publishers are in the data ?\n",
    "pub_code represent a unique publisher\n"
   ]
  },
  {
   "cell_type": "code",
   "execution_count": 31,
   "id": "6e4599ab",
   "metadata": {},
   "outputs": [
    {
     "data": {
      "text/plain": [
       "774"
      ]
     },
     "execution_count": 31,
     "metadata": {},
     "output_type": "execute_result"
    }
   ],
   "source": [
    "unique_publishers = data[\"pub_code\"].nunique()\n",
    "unique_publishers"
   ]
  },
  {
   "cell_type": "markdown",
   "id": "54ad1105",
   "metadata": {},
   "source": [
    "#### 5. What is the average papers downloaded per user?"
   ]
  },
  {
   "cell_type": "code",
   "execution_count": 32,
   "id": "691267f4",
   "metadata": {},
   "outputs": [
    {
     "data": {
      "text/plain": [
       "19.835576923076925"
      ]
     },
     "execution_count": 32,
     "metadata": {},
     "output_type": "execute_result"
    }
   ],
   "source": [
    "avg_downloads_per_user = total_papers / unique_users\n",
    "\n",
    "avg_downloads_per_user"
   ]
  },
  {
   "cell_type": "markdown",
   "id": "9e814ad8",
   "metadata": {},
   "source": [
    "#### 6. Which city had the highest number of paper downloads ?\n"
   ]
  },
  {
   "cell_type": "code",
   "execution_count": 33,
   "id": "0ab0f6ca",
   "metadata": {},
   "outputs": [
    {
     "data": {
      "text/plain": [
       "Saint Catharines    14984\n",
       "Name: city, dtype: int64"
      ]
     },
     "execution_count": 33,
     "metadata": {},
     "output_type": "execute_result"
    }
   ],
   "source": [
    "data['city'].value_counts().head(1)"
   ]
  },
  {
   "cell_type": "markdown",
   "id": "aa038e5f",
   "metadata": {},
   "source": [
    "#### 7. Which city had the lowest number of paper downloads ?"
   ]
  },
  {
   "cell_type": "code",
   "execution_count": 34,
   "id": "3d854718",
   "metadata": {},
   "outputs": [
    {
     "data": {
      "text/plain": [
       "Lincoln    4\n",
       "Name: city, dtype: int64"
      ]
     },
     "execution_count": 34,
     "metadata": {},
     "output_type": "execute_result"
    }
   ],
   "source": [
    "data['city'].value_counts().tail(1)"
   ]
  },
  {
   "cell_type": "markdown",
   "id": "03e0f1af",
   "metadata": {},
   "source": [
    "### Revenue from the sale of the articles"
   ]
  },
  {
   "cell_type": "markdown",
   "id": "7052a638",
   "metadata": {},
   "source": [
    "Let's assume each article cost $10 on average, how much revenue was lost from the free downloads of the article?"
   ]
  },
  {
   "cell_type": "code",
   "execution_count": 35,
   "id": "719258a4",
   "metadata": {},
   "outputs": [
    {
     "data": {
      "text/plain": [
       "206290"
      ]
     },
     "execution_count": 35,
     "metadata": {},
     "output_type": "execute_result"
    }
   ],
   "source": [
    "cost_per_article = 10\n",
    "lost_revenue = cost_per_article * total_papers\n",
    "lost_revenue"
   ]
  },
  {
   "cell_type": "markdown",
   "id": "a82c4230",
   "metadata": {},
   "source": [
    "### Most popular article"
   ]
  },
  {
   "cell_type": "markdown",
   "id": "fe7ed3a7",
   "metadata": {},
   "source": [
    "#### Let's find the most downloaded article\n",
    "\n",
    "Which article has been most downloaded ?\n",
    "\n"
   ]
  },
  {
   "cell_type": "code",
   "execution_count": 36,
   "id": "18395e16",
   "metadata": {},
   "outputs": [
    {
     "data": {
      "text/html": [
       "<div>\n",
       "<style scoped>\n",
       "    .dataframe tbody tr th:only-of-type {\n",
       "        vertical-align: middle;\n",
       "    }\n",
       "\n",
       "    .dataframe tbody tr th {\n",
       "        vertical-align: top;\n",
       "    }\n",
       "\n",
       "    .dataframe thead th {\n",
       "        text-align: right;\n",
       "    }\n",
       "</style>\n",
       "<table border=\"1\" class=\"dataframe\">\n",
       "  <thead>\n",
       "    <tr style=\"text-align: right;\">\n",
       "      <th></th>\n",
       "      <th>date</th>\n",
       "      <th>pub_code</th>\n",
       "      <th>user_code</th>\n",
       "      <th>country</th>\n",
       "      <th>city</th>\n",
       "      <th>lat</th>\n",
       "      <th>long</th>\n",
       "    </tr>\n",
       "    <tr>\n",
       "      <th>doi</th>\n",
       "      <th></th>\n",
       "      <th></th>\n",
       "      <th></th>\n",
       "      <th></th>\n",
       "      <th></th>\n",
       "      <th></th>\n",
       "      <th></th>\n",
       "    </tr>\n",
       "  </thead>\n",
       "  <tbody>\n",
       "    <tr>\n",
       "      <th>10.1071/CH06322</th>\n",
       "      <td>60</td>\n",
       "      <td>60</td>\n",
       "      <td>60</td>\n",
       "      <td>60</td>\n",
       "      <td>60</td>\n",
       "      <td>60</td>\n",
       "      <td>60</td>\n",
       "    </tr>\n",
       "    <tr>\n",
       "      <th>10.1002/zaac.19693700513</th>\n",
       "      <td>52</td>\n",
       "      <td>52</td>\n",
       "      <td>52</td>\n",
       "      <td>52</td>\n",
       "      <td>52</td>\n",
       "      <td>52</td>\n",
       "      <td>52</td>\n",
       "    </tr>\n",
       "    <tr>\n",
       "      <th>10.1071/CH10259</th>\n",
       "      <td>52</td>\n",
       "      <td>52</td>\n",
       "      <td>52</td>\n",
       "      <td>52</td>\n",
       "      <td>52</td>\n",
       "      <td>52</td>\n",
       "      <td>52</td>\n",
       "    </tr>\n",
       "    <tr>\n",
       "      <th>10.1246/bcsj.71.1923</th>\n",
       "      <td>40</td>\n",
       "      <td>40</td>\n",
       "      <td>40</td>\n",
       "      <td>40</td>\n",
       "      <td>40</td>\n",
       "      <td>40</td>\n",
       "      <td>40</td>\n",
       "    </tr>\n",
       "    <tr>\n",
       "      <th>10.2165/11533090-000000000-00000</th>\n",
       "      <td>32</td>\n",
       "      <td>32</td>\n",
       "      <td>32</td>\n",
       "      <td>32</td>\n",
       "      <td>32</td>\n",
       "      <td>32</td>\n",
       "      <td>32</td>\n",
       "    </tr>\n",
       "    <tr>\n",
       "      <th>...</th>\n",
       "      <td>...</td>\n",
       "      <td>...</td>\n",
       "      <td>...</td>\n",
       "      <td>...</td>\n",
       "      <td>...</td>\n",
       "      <td>...</td>\n",
       "      <td>...</td>\n",
       "    </tr>\n",
       "    <tr>\n",
       "      <th>10.1021/bk-1996-0640.ch004</th>\n",
       "      <td>1</td>\n",
       "      <td>1</td>\n",
       "      <td>1</td>\n",
       "      <td>1</td>\n",
       "      <td>1</td>\n",
       "      <td>1</td>\n",
       "      <td>1</td>\n",
       "    </tr>\n",
       "    <tr>\n",
       "      <th>10.1249/01.MSS.0000113478.92945.CA</th>\n",
       "      <td>1</td>\n",
       "      <td>1</td>\n",
       "      <td>1</td>\n",
       "      <td>1</td>\n",
       "      <td>1</td>\n",
       "      <td>1</td>\n",
       "      <td>1</td>\n",
       "    </tr>\n",
       "    <tr>\n",
       "      <th>10.1249/01.mss.0000227538.20799.08</th>\n",
       "      <td>1</td>\n",
       "      <td>1</td>\n",
       "      <td>1</td>\n",
       "      <td>1</td>\n",
       "      <td>1</td>\n",
       "      <td>1</td>\n",
       "      <td>1</td>\n",
       "    </tr>\n",
       "    <tr>\n",
       "      <th>10.1002/jlac.19294680104</th>\n",
       "      <td>1</td>\n",
       "      <td>1</td>\n",
       "      <td>1</td>\n",
       "      <td>1</td>\n",
       "      <td>1</td>\n",
       "      <td>1</td>\n",
       "      <td>1</td>\n",
       "    </tr>\n",
       "    <tr>\n",
       "      <th>10.1016/S0264-410X(99)00092-4</th>\n",
       "      <td>1</td>\n",
       "      <td>1</td>\n",
       "      <td>1</td>\n",
       "      <td>1</td>\n",
       "      <td>1</td>\n",
       "      <td>1</td>\n",
       "      <td>1</td>\n",
       "    </tr>\n",
       "  </tbody>\n",
       "</table>\n",
       "<p>4673 rows × 7 columns</p>\n",
       "</div>"
      ],
      "text/plain": [
       "                                    date  pub_code  user_code  country  city  \\\n",
       "doi                                                                            \n",
       "10.1071/CH06322                       60        60         60       60    60   \n",
       "10.1002/zaac.19693700513              52        52         52       52    52   \n",
       "10.1071/CH10259                       52        52         52       52    52   \n",
       "10.1246/bcsj.71.1923                  40        40         40       40    40   \n",
       "10.2165/11533090-000000000-00000      32        32         32       32    32   \n",
       "...                                  ...       ...        ...      ...   ...   \n",
       "10.1021/bk-1996-0640.ch004             1         1          1        1     1   \n",
       "10.1249/01.MSS.0000113478.92945.CA     1         1          1        1     1   \n",
       "10.1249/01.mss.0000227538.20799.08     1         1          1        1     1   \n",
       "10.1002/jlac.19294680104               1         1          1        1     1   \n",
       "10.1016/S0264-410X(99)00092-4          1         1          1        1     1   \n",
       "\n",
       "                                    lat  long  \n",
       "doi                                            \n",
       "10.1071/CH06322                      60    60  \n",
       "10.1002/zaac.19693700513             52    52  \n",
       "10.1071/CH10259                      52    52  \n",
       "10.1246/bcsj.71.1923                 40    40  \n",
       "10.2165/11533090-000000000-00000     32    32  \n",
       "...                                 ...   ...  \n",
       "10.1021/bk-1996-0640.ch004            1     1  \n",
       "10.1249/01.MSS.0000113478.92945.CA    1     1  \n",
       "10.1249/01.mss.0000227538.20799.08    1     1  \n",
       "10.1002/jlac.19294680104              1     1  \n",
       "10.1016/S0264-410X(99)00092-4         1     1  \n",
       "\n",
       "[4673 rows x 7 columns]"
      ]
     },
     "execution_count": 36,
     "metadata": {},
     "output_type": "execute_result"
    }
   ],
   "source": [
    "popular_article = data.groupby('doi').count().sort_values(by='date', ascending = False)\n",
    "popular_article"
   ]
  },
  {
   "cell_type": "markdown",
   "id": "25779fd8",
   "metadata": {},
   "source": [
    "#### Which user has downloaded the most papers"
   ]
  },
  {
   "cell_type": "code",
   "execution_count": 37,
   "id": "d13f728f",
   "metadata": {},
   "outputs": [
    {
     "data": {
      "text/html": [
       "<div>\n",
       "<style scoped>\n",
       "    .dataframe tbody tr th:only-of-type {\n",
       "        vertical-align: middle;\n",
       "    }\n",
       "\n",
       "    .dataframe tbody tr th {\n",
       "        vertical-align: top;\n",
       "    }\n",
       "\n",
       "    .dataframe thead th {\n",
       "        text-align: right;\n",
       "    }\n",
       "</style>\n",
       "<table border=\"1\" class=\"dataframe\">\n",
       "  <thead>\n",
       "    <tr style=\"text-align: right;\">\n",
       "      <th></th>\n",
       "      <th>date</th>\n",
       "      <th>doi</th>\n",
       "      <th>pub_code</th>\n",
       "      <th>country</th>\n",
       "      <th>city</th>\n",
       "      <th>lat</th>\n",
       "      <th>long</th>\n",
       "    </tr>\n",
       "    <tr>\n",
       "      <th>user_code</th>\n",
       "      <th></th>\n",
       "      <th></th>\n",
       "      <th></th>\n",
       "      <th></th>\n",
       "      <th></th>\n",
       "      <th></th>\n",
       "      <th></th>\n",
       "    </tr>\n",
       "  </thead>\n",
       "  <tbody>\n",
       "    <tr>\n",
       "      <th>523173</th>\n",
       "      <td>736</td>\n",
       "      <td>736</td>\n",
       "      <td>736</td>\n",
       "      <td>736</td>\n",
       "      <td>736</td>\n",
       "      <td>736</td>\n",
       "      <td>736</td>\n",
       "    </tr>\n",
       "    <tr>\n",
       "      <th>6294894</th>\n",
       "      <td>712</td>\n",
       "      <td>712</td>\n",
       "      <td>712</td>\n",
       "      <td>712</td>\n",
       "      <td>712</td>\n",
       "      <td>712</td>\n",
       "      <td>712</td>\n",
       "    </tr>\n",
       "    <tr>\n",
       "      <th>304463</th>\n",
       "      <td>584</td>\n",
       "      <td>584</td>\n",
       "      <td>584</td>\n",
       "      <td>584</td>\n",
       "      <td>584</td>\n",
       "      <td>584</td>\n",
       "      <td>584</td>\n",
       "    </tr>\n",
       "    <tr>\n",
       "      <th>5154801</th>\n",
       "      <td>576</td>\n",
       "      <td>576</td>\n",
       "      <td>576</td>\n",
       "      <td>576</td>\n",
       "      <td>576</td>\n",
       "      <td>576</td>\n",
       "      <td>576</td>\n",
       "    </tr>\n",
       "    <tr>\n",
       "      <th>333551</th>\n",
       "      <td>552</td>\n",
       "      <td>552</td>\n",
       "      <td>552</td>\n",
       "      <td>552</td>\n",
       "      <td>552</td>\n",
       "      <td>552</td>\n",
       "      <td>552</td>\n",
       "    </tr>\n",
       "    <tr>\n",
       "      <th>...</th>\n",
       "      <td>...</td>\n",
       "      <td>...</td>\n",
       "      <td>...</td>\n",
       "      <td>...</td>\n",
       "      <td>...</td>\n",
       "      <td>...</td>\n",
       "      <td>...</td>\n",
       "    </tr>\n",
       "    <tr>\n",
       "      <th>920402</th>\n",
       "      <td>1</td>\n",
       "      <td>1</td>\n",
       "      <td>1</td>\n",
       "      <td>1</td>\n",
       "      <td>1</td>\n",
       "      <td>1</td>\n",
       "      <td>1</td>\n",
       "    </tr>\n",
       "    <tr>\n",
       "      <th>926889</th>\n",
       "      <td>1</td>\n",
       "      <td>1</td>\n",
       "      <td>1</td>\n",
       "      <td>1</td>\n",
       "      <td>1</td>\n",
       "      <td>1</td>\n",
       "      <td>1</td>\n",
       "    </tr>\n",
       "    <tr>\n",
       "      <th>930170</th>\n",
       "      <td>1</td>\n",
       "      <td>1</td>\n",
       "      <td>1</td>\n",
       "      <td>1</td>\n",
       "      <td>1</td>\n",
       "      <td>1</td>\n",
       "      <td>1</td>\n",
       "    </tr>\n",
       "    <tr>\n",
       "      <th>936427</th>\n",
       "      <td>1</td>\n",
       "      <td>1</td>\n",
       "      <td>1</td>\n",
       "      <td>1</td>\n",
       "      <td>1</td>\n",
       "      <td>1</td>\n",
       "      <td>1</td>\n",
       "    </tr>\n",
       "    <tr>\n",
       "      <th>8057461</th>\n",
       "      <td>1</td>\n",
       "      <td>1</td>\n",
       "      <td>1</td>\n",
       "      <td>1</td>\n",
       "      <td>1</td>\n",
       "      <td>1</td>\n",
       "      <td>1</td>\n",
       "    </tr>\n",
       "  </tbody>\n",
       "</table>\n",
       "<p>1040 rows × 7 columns</p>\n",
       "</div>"
      ],
      "text/plain": [
       "           date  doi  pub_code  country  city  lat  long\n",
       "user_code                                               \n",
       "523173      736  736       736      736   736  736   736\n",
       "6294894     712  712       712      712   712  712   712\n",
       "304463      584  584       584      584   584  584   584\n",
       "5154801     576  576       576      576   576  576   576\n",
       "333551      552  552       552      552   552  552   552\n",
       "...         ...  ...       ...      ...   ...  ...   ...\n",
       "920402        1    1         1        1     1    1     1\n",
       "926889        1    1         1        1     1    1     1\n",
       "930170        1    1         1        1     1    1     1\n",
       "936427        1    1         1        1     1    1     1\n",
       "8057461       1    1         1        1     1    1     1\n",
       "\n",
       "[1040 rows x 7 columns]"
      ]
     },
     "execution_count": 37,
     "metadata": {},
     "output_type": "execute_result"
    }
   ],
   "source": [
    "top_users = data.groupby(\"user_code\").count().sort_values(by='date', ascending = False)\n",
    "top_users"
   ]
  },
  {
   "cell_type": "markdown",
   "id": "f1ab3ce9",
   "metadata": {},
   "source": [
    "#### Which cities in Niagara used SciHub the most ?"
   ]
  },
  {
   "cell_type": "code",
   "execution_count": 39,
   "id": "69f0c614",
   "metadata": {},
   "outputs": [
    {
     "data": {
      "text/html": [
       "<div>\n",
       "<style scoped>\n",
       "    .dataframe tbody tr th:only-of-type {\n",
       "        vertical-align: middle;\n",
       "    }\n",
       "\n",
       "    .dataframe tbody tr th {\n",
       "        vertical-align: top;\n",
       "    }\n",
       "\n",
       "    .dataframe thead th {\n",
       "        text-align: right;\n",
       "    }\n",
       "</style>\n",
       "<table border=\"1\" class=\"dataframe\">\n",
       "  <thead>\n",
       "    <tr style=\"text-align: right;\">\n",
       "      <th></th>\n",
       "      <th>date</th>\n",
       "      <th>doi</th>\n",
       "      <th>pub_code</th>\n",
       "      <th>user_code</th>\n",
       "      <th>country</th>\n",
       "      <th>lat</th>\n",
       "      <th>long</th>\n",
       "    </tr>\n",
       "    <tr>\n",
       "      <th>city</th>\n",
       "      <th></th>\n",
       "      <th></th>\n",
       "      <th></th>\n",
       "      <th></th>\n",
       "      <th></th>\n",
       "      <th></th>\n",
       "      <th></th>\n",
       "    </tr>\n",
       "  </thead>\n",
       "  <tbody>\n",
       "    <tr>\n",
       "      <th>Fort Erie</th>\n",
       "      <td>471</td>\n",
       "      <td>471</td>\n",
       "      <td>471</td>\n",
       "      <td>471</td>\n",
       "      <td>471</td>\n",
       "      <td>471</td>\n",
       "      <td>471</td>\n",
       "    </tr>\n",
       "    <tr>\n",
       "      <th>Grimsby</th>\n",
       "      <td>736</td>\n",
       "      <td>736</td>\n",
       "      <td>736</td>\n",
       "      <td>736</td>\n",
       "      <td>736</td>\n",
       "      <td>736</td>\n",
       "      <td>736</td>\n",
       "    </tr>\n",
       "    <tr>\n",
       "      <th>Lincoln</th>\n",
       "      <td>4</td>\n",
       "      <td>4</td>\n",
       "      <td>4</td>\n",
       "      <td>4</td>\n",
       "      <td>4</td>\n",
       "      <td>4</td>\n",
       "      <td>4</td>\n",
       "    </tr>\n",
       "    <tr>\n",
       "      <th>Niagara Falls</th>\n",
       "      <td>2356</td>\n",
       "      <td>2356</td>\n",
       "      <td>2356</td>\n",
       "      <td>2356</td>\n",
       "      <td>2356</td>\n",
       "      <td>2356</td>\n",
       "      <td>2356</td>\n",
       "    </tr>\n",
       "    <tr>\n",
       "      <th>Niagara-on-the-Lake</th>\n",
       "      <td>564</td>\n",
       "      <td>564</td>\n",
       "      <td>564</td>\n",
       "      <td>564</td>\n",
       "      <td>564</td>\n",
       "      <td>564</td>\n",
       "      <td>564</td>\n",
       "    </tr>\n",
       "    <tr>\n",
       "      <th>Pelham</th>\n",
       "      <td>48</td>\n",
       "      <td>48</td>\n",
       "      <td>48</td>\n",
       "      <td>48</td>\n",
       "      <td>48</td>\n",
       "      <td>48</td>\n",
       "      <td>48</td>\n",
       "    </tr>\n",
       "    <tr>\n",
       "      <th>Port Colborne</th>\n",
       "      <td>8</td>\n",
       "      <td>8</td>\n",
       "      <td>8</td>\n",
       "      <td>8</td>\n",
       "      <td>8</td>\n",
       "      <td>8</td>\n",
       "      <td>8</td>\n",
       "    </tr>\n",
       "    <tr>\n",
       "      <th>Saint Catharines</th>\n",
       "      <td>14984</td>\n",
       "      <td>14984</td>\n",
       "      <td>14984</td>\n",
       "      <td>14984</td>\n",
       "      <td>14984</td>\n",
       "      <td>14984</td>\n",
       "      <td>14984</td>\n",
       "    </tr>\n",
       "    <tr>\n",
       "      <th>Thorold</th>\n",
       "      <td>658</td>\n",
       "      <td>658</td>\n",
       "      <td>658</td>\n",
       "      <td>658</td>\n",
       "      <td>658</td>\n",
       "      <td>658</td>\n",
       "      <td>658</td>\n",
       "    </tr>\n",
       "    <tr>\n",
       "      <th>Welland</th>\n",
       "      <td>800</td>\n",
       "      <td>800</td>\n",
       "      <td>800</td>\n",
       "      <td>800</td>\n",
       "      <td>800</td>\n",
       "      <td>800</td>\n",
       "      <td>800</td>\n",
       "    </tr>\n",
       "  </tbody>\n",
       "</table>\n",
       "</div>"
      ],
      "text/plain": [
       "                      date    doi  pub_code  user_code  country    lat   long\n",
       "city                                                                         \n",
       "Fort Erie              471    471       471        471      471    471    471\n",
       "Grimsby                736    736       736        736      736    736    736\n",
       "Lincoln                  4      4         4          4        4      4      4\n",
       "Niagara Falls         2356   2356      2356       2356     2356   2356   2356\n",
       "Niagara-on-the-Lake    564    564       564        564      564    564    564\n",
       "Pelham                  48     48        48         48       48     48     48\n",
       "Port Colborne            8      8         8          8        8      8      8\n",
       "Saint Catharines     14984  14984     14984      14984    14984  14984  14984\n",
       "Thorold                658    658       658        658      658    658    658\n",
       "Welland                800    800       800        800      800    800    800"
      ]
     },
     "execution_count": 39,
     "metadata": {},
     "output_type": "execute_result"
    }
   ],
   "source": [
    "data.groupby('city').count()"
   ]
  },
  {
   "cell_type": "markdown",
   "id": "2c8c03fd",
   "metadata": {},
   "source": [
    "### Visualizations"
   ]
  },
  {
   "cell_type": "markdown",
   "id": "7905c084",
   "metadata": {},
   "source": [
    "#### Graph how many papers per user for city of Thorold."
   ]
  },
  {
   "cell_type": "code",
   "execution_count": 50,
   "id": "4c1c0f7f",
   "metadata": {},
   "outputs": [
    {
     "data": {
      "image/png": "[encoded data removed]",
      "text/plain": [
       "<Figure size 640x480 with 1 Axes>"
      ]
     },
     "metadata": {},
     "output_type": "display_data"
    }
   ],
   "source": [
    "thorold_downloads = data[data[\"city\"] == \"Thorold\"]\n",
    "# thorold_downloads\n",
    "thorold_downloads = thorold_downloads.groupby(\"user_code\").count().sort_values(by = \"doi\", ascending = False).doi\n",
    "# thorold_downloads\n",
    "bins = 200\n",
    "\n",
    "\n",
    "plt.hist(thorold_downloads[0:100], bins)\n",
    "plt.ylabel(\"Users\")\n",
    "plt.xlabel(\"Downloads\")\n",
    "plt.title(\"Thorold Downloads per user\")\n",
    "plt.grid()\n",
    "plt.show()"
   ]
  },
  {
   "cell_type": "markdown",
   "id": "8378da30",
   "metadata": {},
   "source": [
    "#### Draw a pie of top five cities."
   ]
  },
  {
   "cell_type": "code",
   "execution_count": 56,
   "id": "5c7201b9",
   "metadata": {},
   "outputs": [
    {
     "data": {
      "image/png": "[encoded data removed]",
      "text/plain": [
       "<Figure size 640x480 with 1 Axes>"
      ]
     },
     "metadata": {},
     "output_type": "display_data"
    }
   ],
   "source": [
    "cities = data[\"city\"].value_counts()[0:5]\n",
    "city_labels = data[\"city\"].unique()[0:5]\n",
    "plt.pie(cities, labels= city_labels)\n",
    "plt.legend(loc=\"best\")\n",
    "plt.show()"
   ]
  },
  {
   "cell_type": "code",
   "execution_count": null,
   "id": "757cdba1",
   "metadata": {},
   "outputs": [],
   "source": []
  }
 ],
 "metadata": {
  "kernelspec": {
   "display_name": "Python 3",
   "language": "python",
   "name": "python3"
  },
  "language_info": {
   "codemirror_mode": {
    "name": "ipython",
    "version": 3
   },
   "file_extension": ".py",
   "mimetype": "text/x-python",
   "name": "python",
   "nbconvert_exporter": "python",
   "pygments_lexer": "ipython3",
   "version": "3.9.12"
  }
 },
 "nbformat": 4,
 "nbformat_minor": 5
}
